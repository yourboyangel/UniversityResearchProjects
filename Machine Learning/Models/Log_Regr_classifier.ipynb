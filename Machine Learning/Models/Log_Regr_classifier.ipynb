{
  "nbformat": 4,
  "nbformat_minor": 0,
  "metadata": {
    "colab": {
      "provenance": []
    },
    "kernelspec": {
      "name": "python3",
      "display_name": "Python 3"
    },
    "language_info": {
      "name": "python"
    }
  },
  "cells": [
    {
      "cell_type": "code",
      "execution_count": 17,
      "metadata": {
        "id": "uXU2WfDLBGFo",
        "colab": {
          "base_uri": "https://localhost:8080/"
        },
        "outputId": "17425644-44fa-49d1-a143-9e5166cc5a0b"
      },
      "outputs": [
        {
          "output_type": "stream",
          "name": "stderr",
          "text": [
            "<ipython-input-17-be08ba6126ef>:13: SettingWithCopyWarning: \n",
            "A value is trying to be set on a copy of a slice from a DataFrame.\n",
            "Try using .loc[row_indexer,col_indexer] = value instead\n",
            "\n",
            "See the caveats in the documentation: https://pandas.pydata.org/pandas-docs/stable/user_guide/indexing.html#returning-a-view-versus-a-copy\n",
            "  df['Year'] = df['DATE OCC'].dt.year\n"
          ]
        },
        {
          "output_type": "stream",
          "name": "stdout",
          "text": [
            "Features used for training:\n",
            "1. Rpt Dist No\n",
            "2. LAT\n",
            "3. LON\n",
            "4. TIME OCC\n",
            "5. Day of Week\n",
            "6. Is Violent\n",
            "7. Vict Age\n",
            "8. Premis Cd\n",
            "9. Year\n",
            "Total features: 9\n",
            "\n",
            "\n",
            "+----------------+------------+------+-----------+------------+------------+-------------+----------+---------+\n",
            "| Model          | Penalty    |    C | Solver    | l1_ratio   |   Accuracy |   Precision |   Recall |      F1 |\n",
            "+================+============+======+===========+============+============+=============+==========+=========+\n",
            "| L2  C=1        | l2         |  1   | lbfgs     | —          |    0.74963 |     0.21569 |   0.8186 | 0.34142 |\n",
            "+----------------+------------+------+-----------+------------+------------+-------------+----------+---------+\n",
            "| L2  C=10       | l2         | 10   | lbfgs     | —          |    0.74982 |     0.21582 |   0.8186 | 0.34158 |\n",
            "+----------------+------------+------+-----------+------------+------------+-------------+----------+---------+\n",
            "| L2  C=0.1      | l2         |  0.1 | lbfgs     | —          |    0.74982 |     0.21582 |   0.8186 | 0.34158 |\n",
            "+----------------+------------+------+-----------+------------+------------+-------------+----------+---------+\n",
            "| L1  C=1        | l1         |  1   | liblinear | —          |    0.74926 |     0.21542 |   0.8186 | 0.34109 |\n",
            "+----------------+------------+------+-----------+------------+------------+-------------+----------+---------+\n",
            "| ElasticNet 0.5 | elasticnet |  1   | saga      | 0.5        |    0.74945 |     0.21555 |   0.8186 | 0.34125 |\n",
            "+----------------+------------+------+-----------+------------+------------+-------------+----------+---------+\n",
            "\n",
            "Best configuration by F1-score →  L2  C=10  (F1 = 0.34158)\n"
          ]
        }
      ],
      "source": [
        "import pandas as pd\n",
        "from sklearn.preprocessing import StandardScaler\n",
        "from sklearn.pipeline import Pipeline\n",
        "from sklearn.linear_model import LogisticRegression\n",
        "from sklearn.metrics import accuracy_score, precision_score, recall_score, f1_score\n",
        "from tabulate import tabulate\n",
        "import numpy as np\n",
        "# ---------------------------------------------------------------------------#\n",
        "# ---------------------------------------------------------------------------#\n",
        "df = pd.read_csv(\"preprocessed_crime_data.csv\")\n",
        "df['DATE OCC'] = pd.to_datetime(df['DATE OCC'], errors='coerce', dayfirst=True)\n",
        "df = df.dropna(subset=['DATE OCC'])\n",
        "df['Year'] = df['DATE OCC'].dt.year\n",
        "target_col = 'Target'\n",
        "df = df[df[target_col].isin([0, 1])].copy()\n",
        "df[target_col] = df[target_col].astype(int)\n",
        "# ---------------------------------------------------------------------------#\n",
        "# ---------------------------------------------------------------------------#\n",
        "feature_cols = [c for c in df.columns\n",
        "                if c not in [target_col, 'Crime Count', 'DATE OCC']]\n",
        "\n",
        "# Print the features used for training\n",
        "print(\"Features used for training:\")\n",
        "for idx, feature in enumerate(feature_cols, 1):\n",
        "    print(f\"{idx}. {feature}\")\n",
        "print(f\"Total features: {len(feature_cols)}\")\n",
        "print(\"\\n\")\n",
        "# ---------------------------------------------------------------------------#\n",
        "# ---------------------------------------------------------------------------#\n",
        "train_df = df[df['Year'].isin([2021, 2022, 2023])]\n",
        "test_df  = df[df['Year'] == 2024]\n",
        "if train_df.empty or test_df.empty:\n",
        "    raise ValueError(\"Dataset is missing rows for the requested years (2021-2024).\")\n",
        "X_train, y_train = train_df[feature_cols], train_df[target_col]\n",
        "X_test,  y_test  = test_df[feature_cols],  test_df[target_col]\n",
        "# ---------------------------------------------------------------------------#\n",
        "# 4. Five logistic-regression variants\n",
        "# ---------------------------------------------------------------------------#\n",
        "logit_configs = {\n",
        "    \"L2  C=1\":        dict(penalty=\"l2\",  C=1.0,  solver=\"lbfgs\"),\n",
        "    \"L2  C=10\":       dict(penalty=\"l2\",  C=10.0, solver=\"lbfgs\"),\n",
        "    \"L2  C=0.1\":      dict(penalty=\"l2\",  C=0.1,  solver=\"lbfgs\"),\n",
        "    \"L1  C=1\":        dict(penalty=\"l1\",  C=1.0,  solver=\"liblinear\"),\n",
        "    \"ElasticNet 0.5\": dict(penalty=\"elasticnet\", C=1.0,\n",
        "                           l1_ratio=0.5, solver=\"saga\")\n",
        "}\n",
        "rows = []\n",
        "for label, params in logit_configs.items():\n",
        "    pipe = Pipeline([\n",
        "        (\"scale\", StandardScaler()),\n",
        "        (\"clf\",   LogisticRegression(max_iter=2000,\n",
        "                                     class_weight=\"balanced\",\n",
        "                                     random_state=42,\n",
        "                                     **params))\n",
        "    ])\n",
        "    pipe.fit(X_train, y_train)\n",
        "    y_pred = pipe.predict(X_test)\n",
        "    # Collect hyper-params for the table\n",
        "    rows.append({\n",
        "        \"Model\":      label,\n",
        "        \"Penalty\":    params.get(\"penalty\"),\n",
        "        \"C\":          params.get(\"C\"),\n",
        "        \"Solver\":     params.get(\"solver\"),\n",
        "        \"l1_ratio\":   params.get(\"l1_ratio\", \"—\"),\n",
        "        \"Accuracy\":   round(accuracy_score (y_test, y_pred), 5),\n",
        "        \"Precision\":  round(precision_score(y_test, y_pred, zero_division=0), 5),\n",
        "        \"Recall\":     round(recall_score   (y_test, y_pred, zero_division=0), 5),\n",
        "        \"F1\":         round(f1_score      (y_test, y_pred, zero_division=0), 5)\n",
        "    })\n",
        "# ---------------------------------------------------------------------------#\n",
        "# ---------------------------------------------------------------------------#\n",
        "print(tabulate(rows, headers=\"keys\", tablefmt=\"grid\", missingval=\"—\"))\n",
        "best = max(rows, key=lambda r: r[\"F1\"])\n",
        "print(f\"\\nBest configuration by F1-score →  {best['Model']}  \"\n",
        "      f\"(F1 = {best['F1']:.5f})\")"
      ]
    }
  ]
}