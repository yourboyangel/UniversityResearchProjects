{
  "nbformat": 4,
  "nbformat_minor": 0,
  "metadata": {
    "colab": {
      "provenance": []
    },
    "kernelspec": {
      "name": "python3",
      "display_name": "Python 3"
    },
    "language_info": {
      "name": "python"
    }
  },
  "cells": [
    {
      "cell_type": "code",
      "execution_count": 1,
      "metadata": {
        "colab": {
          "base_uri": "https://localhost:8080/"
        },
        "id": "WYGTcfEktVeM",
        "outputId": "b40f1263-52ad-484d-d579-3977e9c16ad1"
      },
      "outputs": [
        {
          "output_type": "stream",
          "name": "stdout",
          "text": [
            "Collecting catboost\n",
            "  Downloading catboost-1.2.8-cp311-cp311-manylinux2014_x86_64.whl.metadata (1.2 kB)\n",
            "Requirement already satisfied: graphviz in /usr/local/lib/python3.11/dist-packages (from catboost) (0.20.3)\n",
            "Requirement already satisfied: matplotlib in /usr/local/lib/python3.11/dist-packages (from catboost) (3.10.0)\n",
            "Requirement already satisfied: numpy<3.0,>=1.16.0 in /usr/local/lib/python3.11/dist-packages (from catboost) (2.0.2)\n",
            "Requirement already satisfied: pandas>=0.24 in /usr/local/lib/python3.11/dist-packages (from catboost) (2.2.2)\n",
            "Requirement already satisfied: scipy in /usr/local/lib/python3.11/dist-packages (from catboost) (1.15.2)\n",
            "Requirement already satisfied: plotly in /usr/local/lib/python3.11/dist-packages (from catboost) (5.24.1)\n",
            "Requirement already satisfied: six in /usr/local/lib/python3.11/dist-packages (from catboost) (1.17.0)\n",
            "Requirement already satisfied: python-dateutil>=2.8.2 in /usr/local/lib/python3.11/dist-packages (from pandas>=0.24->catboost) (2.9.0.post0)\n",
            "Requirement already satisfied: pytz>=2020.1 in /usr/local/lib/python3.11/dist-packages (from pandas>=0.24->catboost) (2025.2)\n",
            "Requirement already satisfied: tzdata>=2022.7 in /usr/local/lib/python3.11/dist-packages (from pandas>=0.24->catboost) (2025.2)\n",
            "Requirement already satisfied: contourpy>=1.0.1 in /usr/local/lib/python3.11/dist-packages (from matplotlib->catboost) (1.3.2)\n",
            "Requirement already satisfied: cycler>=0.10 in /usr/local/lib/python3.11/dist-packages (from matplotlib->catboost) (0.12.1)\n",
            "Requirement already satisfied: fonttools>=4.22.0 in /usr/local/lib/python3.11/dist-packages (from matplotlib->catboost) (4.57.0)\n",
            "Requirement already satisfied: kiwisolver>=1.3.1 in /usr/local/lib/python3.11/dist-packages (from matplotlib->catboost) (1.4.8)\n",
            "Requirement already satisfied: packaging>=20.0 in /usr/local/lib/python3.11/dist-packages (from matplotlib->catboost) (24.2)\n",
            "Requirement already satisfied: pillow>=8 in /usr/local/lib/python3.11/dist-packages (from matplotlib->catboost) (11.2.1)\n",
            "Requirement already satisfied: pyparsing>=2.3.1 in /usr/local/lib/python3.11/dist-packages (from matplotlib->catboost) (3.2.3)\n",
            "Requirement already satisfied: tenacity>=6.2.0 in /usr/local/lib/python3.11/dist-packages (from plotly->catboost) (9.1.2)\n",
            "Downloading catboost-1.2.8-cp311-cp311-manylinux2014_x86_64.whl (99.2 MB)\n",
            "\u001b[2K   \u001b[90m━━━━━━━━━━━━━━━━━━━━━━━━━━━━━━━━━━━━━━━━\u001b[0m \u001b[32m99.2/99.2 MB\u001b[0m \u001b[31m10.0 MB/s\u001b[0m eta \u001b[36m0:00:00\u001b[0m\n",
            "\u001b[?25hInstalling collected packages: catboost\n",
            "Successfully installed catboost-1.2.8\n"
          ]
        }
      ],
      "source": [
        "!pip install catboost"
      ]
    },
    {
      "cell_type": "code",
      "source": [
        "import pandas as pd\n",
        "from catboost import CatBoostClassifier\n",
        "from sklearn.metrics import classification_report, accuracy_score\n",
        "from sklearn.model_selection import train_test_split\n",
        "import numpy as np"
      ],
      "metadata": {
        "id": "4ezHQa89xgIE"
      },
      "execution_count": null,
      "outputs": []
    },
    {
      "cell_type": "markdown",
      "source": [
        "**Load Dataset**"
      ],
      "metadata": {
        "id": "V9uSdFbExhEL"
      }
    },
    {
      "cell_type": "code",
      "source": [
        "file_path = 'preprocessed_crime_data.csv'\n",
        "df = pd.read_csv(file_path)\n",
        "df['DATE OCC'] = pd.to_datetime(df['DATE OCC'])"
      ],
      "metadata": {
        "id": "6zZeb2BCxo74"
      },
      "execution_count": null,
      "outputs": []
    },
    {
      "cell_type": "markdown",
      "source": [
        "**Feature engineering**"
      ],
      "metadata": {
        "id": "17xxjurLxqnR"
      }
    },
    {
      "cell_type": "code",
      "source": [
        "df['hour'] = df['TIME OCC'].astype(int) // 100\n",
        "df['dayofweek'] = df['DATE OCC'].dt.dayofweek\n",
        "df['month'] = df['DATE OCC'].dt.month\n",
        "df['year'] = df['DATE OCC'].dt.year\n",
        "df['is_weekend'] = df['dayofweek'].isin([5, 6]).astype(int)"
      ],
      "metadata": {
        "id": "YFzY3lWFxtkW"
      },
      "execution_count": null,
      "outputs": []
    },
    {
      "cell_type": "markdown",
      "source": [
        "**Drop unused or leaky columns**"
      ],
      "metadata": {
        "id": "Jbh630Tcxx22"
      }
    },
    {
      "cell_type": "code",
      "source": [
        "df = df.drop(columns=['Crime Count', 'Is Violent', 'DATE OCC'])"
      ],
      "metadata": {
        "id": "wDbLc8nWx0Ju"
      },
      "execution_count": null,
      "outputs": []
    },
    {
      "cell_type": "markdown",
      "source": [
        "** Train-test split by year**"
      ],
      "metadata": {
        "id": "fU-Bu9z1x_iA"
      }
    },
    {
      "cell_type": "code",
      "source": [
        "train_df = df[df['year'].isin([2020, 2021, 2022])]\n",
        "test_df = df[df['year'].isin([2023, 2024])]\n",
        "\n",
        "X_train = train_df.drop(columns=['Target', 'year'])\n",
        "y_train = train_df['Target']\n",
        "X_test = test_df.drop(columns=['Target', 'year'])\n",
        "y_test = test_df['Target']"
      ],
      "metadata": {
        "id": "o_Uy-BQQyGce"
      },
      "execution_count": null,
      "outputs": []
    },
    {
      "cell_type": "code",
      "source": [
        "param_grid = [\n",
        "    {'iterations': 300, 'learning_rate': 0.1,  'depth': 4, 'l2_leaf_reg': 3},\n",
        "    {'iterations': 500, 'learning_rate': 0.05, 'depth': 6, 'l2_leaf_reg': 5},\n",
        "    {'iterations': 400, 'learning_rate': 0.15, 'depth': 3, 'l2_leaf_reg': 2},\n",
        "    {'iterations': 600, 'learning_rate': 0.08, 'depth': 5, 'l2_leaf_reg': 4},\n",
        "    {'iterations': 350, 'learning_rate': 0.2,  'depth': 4, 'l2_leaf_reg': 6},\n",
        "    {'iterations': 450, 'learning_rate': 0.07, 'depth': 7, 'l2_leaf_reg': 1},\n",
        "    {'iterations': 500, 'learning_rate': 0.03, 'depth': 6, 'l2_leaf_reg': 3},\n",
        "    {'iterations': 550, 'learning_rate': 0.09, 'depth': 5, 'l2_leaf_reg': 4},\n",
        "    {'iterations': 300, 'learning_rate': 0.25, 'depth': 3, 'l2_leaf_reg': 2},\n",
        "    {'iterations': 400, 'learning_rate': 0.1,  'depth': 8, 'l2_leaf_reg': 5},\n",
        "]"
      ],
      "metadata": {
        "id": "4ghkUrnYyI00"
      },
      "execution_count": null,
      "outputs": []
    },
    {
      "cell_type": "code",
      "source": [
        "for i, params in enumerate(param_grid, 1):\n",
        "    model = CatBoostClassifier(\n",
        "        iterations=params['iterations'],\n",
        "        learning_rate=params['learning_rate'],\n",
        "        depth=params['depth'],\n",
        "        eval_metric='Accuracy',\n",
        "        verbose=0,\n",
        "        random_seed=42\n",
        "    )\n",
        "    model.fit(X_train, y_train, eval_set=(X_test, y_test), early_stopping_rounds=20)\n",
        "\n",
        "    y_pred = model.predict(X_test)\n",
        "    acc = accuracy_score(y_test, y_pred)\n",
        "\n",
        "    print(f\"\\n=== Model {i} with params: {params} ===\")\n",
        "    print(f\"Accuracy: {acc:.6f}\")\n",
        "    print(classification_report(y_test, y_pred, digits=6))\n"
      ],
      "metadata": {
        "colab": {
          "base_uri": "https://localhost:8080/"
        },
        "id": "vc8X5VV7tgO6",
        "outputId": "36023f84-08e6-4b5e-9591-ef0db4add974"
      },
      "execution_count": 8,
      "outputs": [
        {
          "output_type": "stream",
          "name": "stdout",
          "text": [
            "\n",
            "=== Model 1 with params: {'iterations': 300, 'learning_rate': 0.1, 'depth': 4, 'l2_leaf_reg': 3} ===\n",
            "Accuracy: 0.883911\n",
            "              precision    recall  f1-score   support\n",
            "\n",
            "           0   0.910946  0.955717  0.932795     21995\n",
            "           1   0.677056  0.498413  0.574160      4097\n",
            "\n",
            "    accuracy                       0.883911     26092\n",
            "   macro avg   0.794001  0.727065  0.753477     26092\n",
            "weighted avg   0.874221  0.883911  0.876482     26092\n",
            "\n",
            "\n",
            "=== Model 2 with params: {'iterations': 500, 'learning_rate': 0.05, 'depth': 6, 'l2_leaf_reg': 5} ===\n",
            "Accuracy: 0.890694\n",
            "              precision    recall  f1-score   support\n",
            "\n",
            "           0   0.918024  0.955672  0.936470     21995\n",
            "           1   0.694836  0.541860  0.608886      4097\n",
            "\n",
            "    accuracy                       0.890694     26092\n",
            "   macro avg   0.806430  0.748766  0.772678     26092\n",
            "weighted avg   0.882979  0.890694  0.885032     26092\n",
            "\n",
            "\n",
            "=== Model 3 with params: {'iterations': 400, 'learning_rate': 0.15, 'depth': 3, 'l2_leaf_reg': 2} ===\n",
            "Accuracy: 0.884984\n",
            "              precision    recall  f1-score   support\n",
            "\n",
            "           0   0.912734  0.954853  0.933319     21995\n",
            "           1   0.677807  0.509885  0.581975      4097\n",
            "\n",
            "    accuracy                       0.884984     26092\n",
            "   macro avg   0.795270  0.732369  0.757647     26092\n",
            "weighted avg   0.875845  0.884984  0.878150     26092\n",
            "\n",
            "\n",
            "=== Model 4 with params: {'iterations': 600, 'learning_rate': 0.08, 'depth': 5, 'l2_leaf_reg': 4} ===\n",
            "Accuracy: 0.891461\n",
            "              precision    recall  f1-score   support\n",
            "\n",
            "           0   0.918827  0.955672  0.936887     21995\n",
            "           1   0.696734  0.546742  0.612691      4097\n",
            "\n",
            "    accuracy                       0.891461     26092\n",
            "   macro avg   0.807780  0.751207  0.774789     26092\n",
            "weighted avg   0.883953  0.891461  0.885982     26092\n",
            "\n",
            "\n",
            "=== Model 5 with params: {'iterations': 350, 'learning_rate': 0.2, 'depth': 4, 'l2_leaf_reg': 6} ===\n",
            "Accuracy: 0.894450\n",
            "              precision    recall  f1-score   support\n",
            "\n",
            "           0   0.925441  0.951444  0.938262     21995\n",
            "           1   0.693015  0.588479  0.636484      4097\n",
            "\n",
            "    accuracy                       0.894450     26092\n",
            "   macro avg   0.809228  0.769961  0.787373     26092\n",
            "weighted avg   0.888945  0.894450  0.890877     26092\n",
            "\n",
            "\n",
            "=== Model 6 with params: {'iterations': 450, 'learning_rate': 0.07, 'depth': 7, 'l2_leaf_reg': 1} ===\n",
            "Accuracy: 0.892764\n",
            "              precision    recall  f1-score   support\n",
            "\n",
            "           0   0.921301  0.954308  0.937514     21995\n",
            "           1   0.696283  0.562363  0.622198      4097\n",
            "\n",
            "    accuracy                       0.892764     26092\n",
            "   macro avg   0.808792  0.758335  0.779856     26092\n",
            "weighted avg   0.885968  0.892764  0.888003     26092\n",
            "\n",
            "\n",
            "=== Model 7 with params: {'iterations': 500, 'learning_rate': 0.03, 'depth': 6, 'l2_leaf_reg': 3} ===\n",
            "Accuracy: 0.852445\n",
            "              precision    recall  f1-score   support\n",
            "\n",
            "           0   0.858017  0.988543  0.918667     21995\n",
            "           1   0.664447  0.121796  0.205858      4097\n",
            "\n",
            "    accuracy                       0.852445     26092\n",
            "   macro avg   0.761232  0.555170  0.562262     26092\n",
            "weighted avg   0.827622  0.852445  0.806740     26092\n",
            "\n",
            "\n",
            "=== Model 8 with params: {'iterations': 550, 'learning_rate': 0.09, 'depth': 5, 'l2_leaf_reg': 4} ===\n",
            "Accuracy: 0.895409\n",
            "              precision    recall  f1-score   support\n",
            "\n",
            "           0   0.925298  0.952853  0.938873     21995\n",
            "           1   0.698722  0.587015  0.638016      4097\n",
            "\n",
            "    accuracy                       0.895409     26092\n",
            "   macro avg   0.812010  0.769934  0.788444     26092\n",
            "weighted avg   0.889721  0.895409  0.891632     26092\n",
            "\n",
            "\n",
            "=== Model 9 with params: {'iterations': 300, 'learning_rate': 0.25, 'depth': 3, 'l2_leaf_reg': 2} ===\n",
            "Accuracy: 0.888165\n",
            "              precision    recall  f1-score   support\n",
            "\n",
            "           0   0.920328  0.949534  0.934703     21995\n",
            "           1   0.673433  0.558701  0.610726      4097\n",
            "\n",
            "    accuracy                       0.888165     26092\n",
            "   macro avg   0.796881  0.754118  0.772714     26092\n",
            "weighted avg   0.881560  0.888165  0.883832     26092\n",
            "\n",
            "\n",
            "=== Model 10 with params: {'iterations': 400, 'learning_rate': 0.1, 'depth': 8, 'l2_leaf_reg': 5} ===\n",
            "Accuracy: 0.898168\n",
            "              precision    recall  f1-score   support\n",
            "\n",
            "           0   0.931459  0.949034  0.940164     21995\n",
            "           1   0.695546  0.625092  0.658439      4097\n",
            "\n",
            "    accuracy                       0.898168     26092\n",
            "   macro avg   0.813503  0.787063  0.799302     26092\n",
            "weighted avg   0.894416  0.898168  0.895928     26092\n",
            "\n"
          ]
        }
      ]
    }
  ]
}