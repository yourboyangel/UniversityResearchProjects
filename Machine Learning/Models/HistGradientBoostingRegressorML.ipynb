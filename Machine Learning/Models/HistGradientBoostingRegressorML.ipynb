{
  "nbformat": 4,
  "nbformat_minor": 0,
  "metadata": {
    "colab": {
      "provenance": [],
      "gpuType": "T4"
    },
    "kernelspec": {
      "name": "python3",
      "display_name": "Python 3"
    },
    "language_info": {
      "name": "python"
    },
    "accelerator": "GPU"
  },
  "cells": [
    {
      "cell_type": "code",
      "execution_count": 1,
      "metadata": {
        "id": "BUC7UBWnm2X6"
      },
      "outputs": [],
      "source": [
        "import pandas as pd\n",
        "import matplotlib.pyplot as plt\n",
        "from sklearn.ensemble import HistGradientBoostingRegressor\n",
        "from sklearn.metrics import mean_squared_error"
      ]
    },
    {
      "cell_type": "markdown",
      "source": [
        "**Load and preprocess data**"
      ],
      "metadata": {
        "id": "W8SAQHE_rp3r"
      }
    },
    {
      "cell_type": "code",
      "source": [
        "df = pd.read_csv(\"preprocessed_crime_data.csv\")\n",
        "df['DATE OCC'] = pd.to_datetime(df['DATE OCC'])\n",
        "df['Year'] = df['DATE OCC'].dt.year\n",
        "df['Month'] = df['DATE OCC'].dt.month"
      ],
      "metadata": {
        "id": "JsLOT2YurOhF"
      },
      "execution_count": 2,
      "outputs": []
    },
    {
      "cell_type": "markdown",
      "source": [
        "** Aggregate monthly crime count per zone**"
      ],
      "metadata": {
        "id": "GiFLvqiXrswr"
      }
    },
    {
      "cell_type": "code",
      "source": [
        "monthly_zone_crime = df.groupby(['Year', 'Month', 'Rpt Dist No'])['Crime Count'].sum().reset_index()"
      ],
      "metadata": {
        "id": "oEVmNV_3rQ9b"
      },
      "execution_count": 3,
      "outputs": []
    },
    {
      "cell_type": "markdown",
      "source": [
        "**Features and target**"
      ],
      "metadata": {
        "id": "JGogfx6Nr77C"
      }
    },
    {
      "cell_type": "code",
      "source": [
        "feature_cols = ['Year', 'Month', 'Rpt Dist No']\n",
        "X = monthly_zone_crime[feature_cols]\n",
        "y = monthly_zone_crime['Crime Count']"
      ],
      "metadata": {
        "id": "UL_JJGbjrUCv"
      },
      "execution_count": 4,
      "outputs": []
    },
    {
      "cell_type": "markdown",
      "source": [
        "**Split train/test**"
      ],
      "metadata": {
        "id": "c5cCu81fr_4M"
      }
    },
    {
      "cell_type": "code",
      "source": [
        "train_mask = X['Year'] < 2024\n",
        "X_train, y_train = X[train_mask], y[train_mask]\n",
        "X_test, y_test = X[~train_mask], y[~train_mask]"
      ],
      "metadata": {
        "id": "87kLb9dLrWOc"
      },
      "execution_count": 5,
      "outputs": []
    },
    {
      "cell_type": "markdown",
      "source": [
        "** Parameter grid**"
      ],
      "metadata": {
        "id": "BYqxG6AFsDb0"
      }
    },
    {
      "cell_type": "code",
      "source": [
        "param_grid = [\n",
        "    {'max_iter': 100, 'learning_rate': 0.1, 'max_depth': 3},\n",
        "    {'max_iter': 200, 'learning_rate': 0.05, 'max_depth': 4},\n",
        "    {'max_iter': 300, 'learning_rate': 0.01, 'max_depth': 6},\n",
        "    {'max_iter': 150, 'learning_rate': 0.15, 'max_depth': 3},\n",
        "    {'max_iter': 120, 'learning_rate': 0.1, 'max_depth': 5},\n",
        "    {'max_iter': 250, 'learning_rate': 0.05, 'max_depth': 7},\n",
        "    {'max_iter': 180, 'learning_rate': 0.08, 'max_depth': 4},\n",
        "    {'max_iter': 300, 'learning_rate': 0.1, 'max_depth': 6},\n",
        "    {'max_iter': 200, 'learning_rate': 0.02, 'max_depth': 8},\n",
        "    {'max_iter': 100, 'learning_rate': 0.2, 'max_depth': 2},\n",
        "]\n"
      ],
      "metadata": {
        "id": "DgOrDsYCrYsJ"
      },
      "execution_count": 6,
      "outputs": []
    },
    {
      "cell_type": "markdown",
      "source": [
        "**Run and evaluate each model**"
      ],
      "metadata": {
        "id": "_5hafA0NsHd5"
      }
    },
    {
      "cell_type": "code",
      "source": [
        "\n",
        "results = []\n",
        "\n",
        "for i, params in enumerate(param_grid, 1):\n",
        "    model = HistGradientBoostingRegressor(\n",
        "        max_iter=params['max_iter'],\n",
        "        learning_rate=params['learning_rate'],\n",
        "        max_depth=params['max_depth'],\n",
        "        random_state=42\n",
        "    )\n",
        "    model.fit(X_train, y_train)\n",
        "    y_pred = model.predict(X_test)\n",
        "\n",
        "    mse = mean_squared_error(y_test, y_pred)\n",
        "    X_test_copy = X_test.copy()\n",
        "    X_test_copy['Predicted Crime Count'] = y_pred\n",
        "    zone_preds = X_test_copy.groupby('Rpt Dist No')['Predicted Crime Count'].sum().reset_index()\n",
        "    most_dangerous = zone_preds.sort_values(by='Predicted Crime Count', ascending=False).iloc[0]\n",
        "\n",
        "    results.append({\n",
        "        'Model': i,\n",
        "        'Max Iter': params['max_iter'],\n",
        "        'Learning Rate': params['learning_rate'],\n",
        "        'Max Depth': params['max_depth'],\n",
        "        'Rpt Dist No': most_dangerous['Rpt Dist No'],\n",
        "        'Predicted Crime Count': most_dangerous['Predicted Crime Count'],\n",
        "        'MSE': mse\n",
        "    })"
      ],
      "metadata": {
        "id": "EbA_7pDTrcti"
      },
      "execution_count": 7,
      "outputs": []
    },
    {
      "cell_type": "code",
      "source": [
        "results_df = pd.DataFrame(results)\n",
        "\n",
        "print(\"\\n Model Evaluation Summary:\")\n",
        "print(results_df.sort_values(by='MSE').to_string(index=False))"
      ],
      "metadata": {
        "colab": {
          "base_uri": "https://localhost:8080/"
        },
        "id": "cGA0bXjgreE1",
        "outputId": "9edbd912-7f00-4b31-c373-98a4d0349b5c"
      },
      "execution_count": 8,
      "outputs": [
        {
          "output_type": "stream",
          "name": "stdout",
          "text": [
            "\n",
            " Model Evaluation Summary:\n",
            " Model  Max Iter  Learning Rate  Max Depth  Rpt Dist No  Predicted Crime Count      MSE\n",
            "     3       300           0.01          6        991.0              33.011724 1.025054\n",
            "     1       100           0.10          3        991.0              30.592858 1.039997\n",
            "     9       200           0.02          8        989.0              37.407431 1.040924\n",
            "     2       200           0.05          4        989.0              38.567744 1.045511\n",
            "     4       150           0.15          3        989.0              38.622426 1.045530\n",
            "    10       100           0.20          2        991.0              32.154313 1.051424\n",
            "     7       180           0.08          4        990.0              41.760491 1.051946\n",
            "     5       120           0.10          5        991.0              43.439997 1.058323\n",
            "     6       250           0.05          7        990.0              44.232850 1.067813\n",
            "     8       300           0.10          6        991.0              43.661748 1.068149\n"
          ]
        }
      ]
    },
    {
      "cell_type": "code",
      "source": [
        "plt.figure(figsize=(10, 6))\n",
        "plt.bar(results_df['Model'], results_df['MSE'], color='skyblue')\n",
        "plt.xlabel('Model Number')\n",
        "plt.ylabel('Mean Squared Error')\n",
        "plt.title('MSE of Each Gradient Boosting Model')\n",
        "plt.xticks(results_df['Model'])\n",
        "plt.grid(True)\n",
        "plt.tight_layout()\n",
        "plt.show()\n"
      ],
      "metadata": {
        "colab": {
          "base_uri": "https://localhost:8080/",
          "height": 607
        },
        "id": "mstRCIYCrhaZ",
        "outputId": "e3637934-8e61-486c-f89d-c691347f1991"
      },
      "execution_count": 9,
      "outputs": [
        {
          "output_type": "display_data",
          "data": {
            "text/plain": [
              "<Figure size 1000x600 with 1 Axes>"
            ],
            "image/png": "[encoded data removed]"
          },
          "metadata": {}
        }
      ]
    }
  ]
}