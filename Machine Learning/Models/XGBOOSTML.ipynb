{
  "nbformat": 4,
  "nbformat_minor": 0,
  "metadata": {
    "colab": {
      "provenance": [],
      "gpuType": "T4"
    },
    "kernelspec": {
      "name": "python3",
      "display_name": "Python 3"
    },
    "language_info": {
      "name": "python"
    },
    "accelerator": "GPU"
  },
  "cells": [
    {
      "cell_type": "code",
      "execution_count": 37,
      "metadata": {
        "id": "HLAgnGQgaNGu"
      },
      "outputs": [],
      "source": [
        "import pandas as pd\n",
        "import xgboost as xgb\n",
        "from sklearn.metrics import classification_report, accuracy_score\n",
        "from sklearn.model_selection import train_test_split\n",
        "import numpy as np"
      ]
    },
    {
      "cell_type": "markdown",
      "source": [
        "**Load** **dataset**"
      ],
      "metadata": {
        "id": "Q9H0zCiNkkux"
      }
    },
    {
      "cell_type": "code",
      "source": [
        "file_path = 'preprocessed_crime_data.csv'\n",
        "df = pd.read_csv(file_path)\n",
        "df['DATE OCC'] = pd.to_datetime(df['DATE OCC'])"
      ],
      "metadata": {
        "id": "bOccRUyHj8yA"
      },
      "execution_count": 38,
      "outputs": []
    },
    {
      "cell_type": "markdown",
      "source": [
        "**Supervised-only feature**"
      ],
      "metadata": {
        "id": "UsKXEYFGkqS1"
      }
    },
    {
      "cell_type": "code",
      "source": [
        "df['hour'] = df['TIME OCC'].astype(int) // 100\n",
        "df['dayofweek'] = df['DATE OCC'].dt.dayofweek\n",
        "df['month'] = df['DATE OCC'].dt.month\n",
        "df['year'] = df['DATE OCC'].dt.year\n",
        "df['is_weekend'] = df['dayofweek'].isin([5, 6]).astype(int)"
      ],
      "metadata": {
        "id": "-BtJzPj2kBQd"
      },
      "execution_count": 39,
      "outputs": []
    },
    {
      "cell_type": "markdown",
      "source": [
        "**Drop potential leakage and unused columns**"
      ],
      "metadata": {
        "id": "s8Hp4a8pk2Uq"
      }
    },
    {
      "cell_type": "code",
      "source": [
        "df = df.drop(columns=['Crime Count', 'Is Violent', 'DATE OCC'])"
      ],
      "metadata": {
        "id": "5d4DfbJUkGvT"
      },
      "execution_count": 40,
      "outputs": []
    },
    {
      "cell_type": "markdown",
      "source": [
        "**Train-test split**"
      ],
      "metadata": {
        "id": "26sJl8bvk_OB"
      }
    },
    {
      "cell_type": "code",
      "source": [
        "train_df = df[df['year'].isin([2020, 2021, 2022])]\n",
        "test_df = df[df['year'].isin([2023, 2024])]"
      ],
      "metadata": {
        "id": "62ic7jDWkPuy"
      },
      "execution_count": 41,
      "outputs": []
    },
    {
      "cell_type": "code",
      "source": [
        "X_train = train_df.drop(columns=['Target', 'year'])\n",
        "y_train = train_df['Target']\n",
        "X_test = test_df.drop(columns=['Target', 'year'])\n",
        "y_test = test_df['Target']"
      ],
      "metadata": {
        "id": "FCDC1mNtkS7e"
      },
      "execution_count": 42,
      "outputs": []
    },
    {
      "cell_type": "markdown",
      "source": [
        "**Validation split from training**"
      ],
      "metadata": {
        "id": "lf7l4kYnlKbA"
      }
    },
    {
      "cell_type": "code",
      "source": [
        "X_train_final, X_val, y_train_final, y_val = train_test_split(X_train, y_train, test_size=0.2, random_state=42)"
      ],
      "metadata": {
        "id": "G52vduYTkWck"
      },
      "execution_count": 43,
      "outputs": []
    },
    {
      "cell_type": "markdown",
      "source": [
        "**DMatrix for XGBoost**"
      ],
      "metadata": {
        "id": "wjhC5hH0lTEp"
      }
    },
    {
      "cell_type": "code",
      "source": [
        "dtrain = xgb.DMatrix(X_train_final, label=y_train_final)\n",
        "dval = xgb.DMatrix(X_val, label=y_val)\n",
        "dtest = xgb.DMatrix(X_test, label=y_test)"
      ],
      "metadata": {
        "id": "oqYf3ClukYZB"
      },
      "execution_count": 44,
      "outputs": []
    },
    {
      "cell_type": "markdown",
      "source": [
        "**Parameter configurations**"
      ],
      "metadata": {
        "id": "Z9TRyRU5laMb"
      }
    },
    {
      "cell_type": "code",
      "source": [
        "param_sets = [\n",
        "    {'objective': 'binary:logistic', 'eval_metric': 'logloss',\n",
        "     'max_depth': 3, 'eta': 0.1, 'subsample': 0.8, 'colsample_bytree': 0.8, 'seed': 42},\n",
        "\n",
        "    {'objective': 'binary:logistic', 'eval_metric': 'logloss',\n",
        "     'max_depth': 4, 'eta': 0.05, 'subsample': 0.9, 'colsample_bytree': 0.9, 'seed': 42},\n",
        "\n",
        "    {'objective': 'binary:logistic', 'eval_metric': 'logloss',\n",
        "     'max_depth': 5, 'eta': 0.3, 'subsample': 0.7, 'colsample_bytree': 0.7, 'seed': 42},\n",
        "\n",
        "    {'objective': 'binary:logistic', 'eval_metric': 'logloss',\n",
        "     'max_depth': 6, 'eta': 0.2, 'subsample': 1.0, 'colsample_bytree': 1.0, 'seed': 42},\n",
        "\n",
        "    {'objective': 'binary:logistic', 'eval_metric': 'logloss',\n",
        "     'max_depth': 3, 'eta': 0.15, 'subsample': 0.85, 'colsample_bytree': 0.85, 'seed': 42},\n",
        "\n",
        "    {'objective': 'binary:logistic', 'eval_metric': 'logloss',\n",
        "     'max_depth': 4, 'eta': 0.25, 'subsample': 0.95, 'colsample_bytree': 0.75, 'seed': 42},\n",
        "\n",
        "    {'objective': 'binary:logistic', 'eval_metric': 'logloss',\n",
        "     'max_depth': 7, 'eta': 0.05, 'subsample': 0.6, 'colsample_bytree': 0.6, 'seed': 42},\n",
        "\n",
        "    {'objective': 'binary:logistic', 'eval_metric': 'logloss',\n",
        "     'max_depth': 8, 'eta': 0.01, 'subsample': 0.8, 'colsample_bytree': 0.8, 'seed': 42},\n",
        "\n",
        "    {'objective': 'binary:logistic', 'eval_metric': 'logloss',\n",
        "     'max_depth': 6, 'eta': 0.2, 'subsample': 0.9, 'colsample_bytree': 0.8,\n",
        "     'gamma': 0.1, 'seed': 42},\n",
        "\n",
        "    {'objective': 'binary:logistic', 'eval_metric': 'logloss',\n",
        "     'max_depth': 5, 'eta': 0.3, 'subsample': 1.0, 'colsample_bytree': 1.0,\n",
        "     'gamma': 0.2, 'lambda': 1.5, 'seed': 42}\n",
        "]"
      ],
      "metadata": {
        "id": "ApQ4BOlmkc3Y"
      },
      "execution_count": 45,
      "outputs": []
    },
    {
      "cell_type": "markdown",
      "source": [
        "**Training with early stopping**\n"
      ],
      "metadata": {
        "id": "RxVh1sPBldUC"
      }
    },
    {
      "cell_type": "code",
      "source": [
        "for idx, params in enumerate(param_sets, 1):\n",
        "    print(f\"\\n=== Model {idx} with params: {params} ===\")\n",
        "    model = xgb.train(\n",
        "        params,\n",
        "        dtrain,\n",
        "        num_boost_round=2500,\n",
        "        evals=[(dval, 'validation')],\n",
        "        early_stopping_rounds=20,\n",
        "        verbose_eval=False\n",
        "    )\n",
        "    y_pred_prob = model.predict(dtest)\n",
        "    y_pred = (y_pred_prob > 0.5).astype(int)\n",
        "    acc = accuracy_score(y_test, y_pred)\n",
        "    print(f\"Stopped at round: {model.best_iteration}\")\n",
        "    print(f\"Accuracy: {acc:.6f}\")\n",
        "    print(classification_report(y_test, y_pred, digits=6))"
      ],
      "metadata": {
        "colab": {
          "base_uri": "https://localhost:8080/"
        },
        "id": "Ghwa8fITkgYd",
        "outputId": "29868ab8-49e7-4616-dd94-1051f316dc2d"
      },
      "execution_count": 46,
      "outputs": [
        {
          "output_type": "stream",
          "name": "stdout",
          "text": [
            "\n",
            "=== Model 1 with params: {'objective': 'binary:logistic', 'eval_metric': 'logloss', 'max_depth': 3, 'eta': 0.1, 'subsample': 0.8, 'colsample_bytree': 0.8, 'seed': 42} ===\n",
            "Stopped at round: 1629\n",
            "Accuracy: 0.892342\n",
            "              precision    recall  f1-score   support\n",
            "\n",
            "           0   0.931495  0.941532  0.936487     21995\n",
            "           1   0.666839  0.628265  0.646978      4097\n",
            "\n",
            "    accuracy                       0.892342     26092\n",
            "   macro avg   0.799167  0.784898  0.791732     26092\n",
            "weighted avg   0.889939  0.892342  0.891028     26092\n",
            "\n",
            "\n",
            "=== Model 2 with params: {'objective': 'binary:logistic', 'eval_metric': 'logloss', 'max_depth': 4, 'eta': 0.05, 'subsample': 0.9, 'colsample_bytree': 0.9, 'seed': 42} ===\n",
            "Stopped at round: 2268\n",
            "Accuracy: 0.895639\n",
            "              precision    recall  f1-score   support\n",
            "\n",
            "           0   0.934759  0.941941  0.938336     21995\n",
            "           1   0.674898  0.647059  0.660685      4097\n",
            "\n",
            "    accuracy                       0.895639     26092\n",
            "   macro avg   0.804829  0.794500  0.799511     26092\n",
            "weighted avg   0.893955  0.895639  0.894739     26092\n",
            "\n",
            "\n",
            "=== Model 3 with params: {'objective': 'binary:logistic', 'eval_metric': 'logloss', 'max_depth': 5, 'eta': 0.3, 'subsample': 0.7, 'colsample_bytree': 0.7, 'seed': 42} ===\n",
            "Stopped at round: 241\n",
            "Accuracy: 0.889353\n",
            "              precision    recall  f1-score   support\n",
            "\n",
            "           0   0.933092  0.935849  0.934468     21995\n",
            "           1   0.650050  0.639736  0.644852      4097\n",
            "\n",
            "    accuracy                       0.889353     26092\n",
            "   macro avg   0.791571  0.787793  0.789660     26092\n",
            "weighted avg   0.888648  0.889353  0.888992     26092\n",
            "\n",
            "\n",
            "=== Model 4 with params: {'objective': 'binary:logistic', 'eval_metric': 'logloss', 'max_depth': 6, 'eta': 0.2, 'subsample': 1.0, 'colsample_bytree': 1.0, 'seed': 42} ===\n",
            "Stopped at round: 284\n",
            "Accuracy: 0.895524\n",
            "              precision    recall  f1-score   support\n",
            "\n",
            "           0   0.935852  0.940532  0.938186     21995\n",
            "           1   0.671934  0.653893  0.662791      4097\n",
            "\n",
            "    accuracy                       0.895524     26092\n",
            "   macro avg   0.803893  0.797213  0.800488     26092\n",
            "weighted avg   0.894411  0.895524  0.894943     26092\n",
            "\n",
            "\n",
            "=== Model 5 with params: {'objective': 'binary:logistic', 'eval_metric': 'logloss', 'max_depth': 3, 'eta': 0.15, 'subsample': 0.85, 'colsample_bytree': 0.85, 'seed': 42} ===\n",
            "Stopped at round: 1205\n",
            "Accuracy: 0.893071\n",
            "              precision    recall  f1-score   support\n",
            "\n",
            "           0   0.932214  0.941623  0.936895     21995\n",
            "           1   0.668645  0.632414  0.650025      4097\n",
            "\n",
            "    accuracy                       0.893071     26092\n",
            "   macro avg   0.800430  0.787019  0.793460     26092\n",
            "weighted avg   0.890828  0.893071  0.891850     26092\n",
            "\n",
            "\n",
            "=== Model 6 with params: {'objective': 'binary:logistic', 'eval_metric': 'logloss', 'max_depth': 4, 'eta': 0.25, 'subsample': 0.95, 'colsample_bytree': 0.75, 'seed': 42} ===\n",
            "Stopped at round: 379\n",
            "Accuracy: 0.892534\n",
            "              precision    recall  f1-score   support\n",
            "\n",
            "           0   0.932678  0.940396  0.936521     21995\n",
            "           1   0.665134  0.635587  0.650025      4097\n",
            "\n",
            "    accuracy                       0.892534     26092\n",
            "   macro avg   0.798906  0.787991  0.793273     26092\n",
            "weighted avg   0.890668  0.892534  0.891535     26092\n",
            "\n",
            "\n",
            "=== Model 7 with params: {'objective': 'binary:logistic', 'eval_metric': 'logloss', 'max_depth': 7, 'eta': 0.05, 'subsample': 0.6, 'colsample_bytree': 0.6, 'seed': 42} ===\n",
            "Stopped at round: 643\n",
            "Accuracy: 0.895792\n",
            "              precision    recall  f1-score   support\n",
            "\n",
            "           0   0.930575  0.947033  0.938732     21995\n",
            "           1   0.685814  0.620698  0.651634      4097\n",
            "\n",
            "    accuracy                       0.895792     26092\n",
            "   macro avg   0.808195  0.783866  0.795183     26092\n",
            "weighted avg   0.892143  0.895792  0.893652     26092\n",
            "\n",
            "\n",
            "=== Model 8 with params: {'objective': 'binary:logistic', 'eval_metric': 'logloss', 'max_depth': 8, 'eta': 0.01, 'subsample': 0.8, 'colsample_bytree': 0.8, 'seed': 42} ===\n",
            "Stopped at round: 2499\n",
            "Accuracy: 0.897593\n",
            "              precision    recall  f1-score   support\n",
            "\n",
            "           0   0.931876  0.947806  0.939774     21995\n",
            "           1   0.691481  0.628021  0.658225      4097\n",
            "\n",
            "    accuracy                       0.897593     26092\n",
            "   macro avg   0.811678  0.787913  0.798999     26092\n",
            "weighted avg   0.894129  0.897593  0.895564     26092\n",
            "\n",
            "\n",
            "=== Model 9 with params: {'objective': 'binary:logistic', 'eval_metric': 'logloss', 'max_depth': 6, 'eta': 0.2, 'subsample': 0.9, 'colsample_bytree': 0.8, 'gamma': 0.1, 'seed': 42} ===\n",
            "Stopped at round: 271\n",
            "Accuracy: 0.893377\n",
            "              precision    recall  f1-score   support\n",
            "\n",
            "           0   0.933330  0.940714  0.937008     21995\n",
            "           1   0.667601  0.639248  0.653117      4097\n",
            "\n",
            "    accuracy                       0.893377     26092\n",
            "   macro avg   0.800466  0.789981  0.795062     26092\n",
            "weighted avg   0.891605  0.893377  0.892431     26092\n",
            "\n",
            "\n",
            "=== Model 10 with params: {'objective': 'binary:logistic', 'eval_metric': 'logloss', 'max_depth': 5, 'eta': 0.3, 'subsample': 1.0, 'colsample_bytree': 1.0, 'gamma': 0.2, 'lambda': 1.5, 'seed': 42} ===\n",
            "Stopped at round: 243\n",
            "Accuracy: 0.893607\n",
            "              precision    recall  f1-score   support\n",
            "\n",
            "           0   0.935036  0.939032  0.937029     21995\n",
            "           1   0.665001  0.649744  0.657284      4097\n",
            "\n",
            "    accuracy                       0.893607     26092\n",
            "   macro avg   0.800018  0.794388  0.797157     26092\n",
            "weighted avg   0.892634  0.893607  0.893103     26092\n",
            "\n"
          ]
        }
      ]
    }
  ]
}