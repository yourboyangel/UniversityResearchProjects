{
  "nbformat": 4,
  "nbformat_minor": 0,
  "metadata": {
    "colab": {
      "provenance": []
    },
    "kernelspec": {
      "name": "python3",
      "display_name": "Python 3"
    },
    "language_info": {
      "name": "python"
    }
  },
  "cells": [
    {
      "cell_type": "markdown",
      "source": [
        "Imports"
      ],
      "metadata": {
        "id": "orPMVJuuGSfB"
      }
    },
    {
      "cell_type": "code",
      "source": [
        "import pandas as pd\n",
        "from sklearn.ensemble import AdaBoostClassifier\n",
        "from sklearn.tree import DecisionTreeClassifier\n",
        "from sklearn.metrics import classification_report, accuracy_score"
      ],
      "metadata": {
        "id": "_nBgyVIzGWad"
      },
      "execution_count": 1,
      "outputs": []
    },
    {
      "cell_type": "markdown",
      "source": [
        "Loading the Data"
      ],
      "metadata": {
        "id": "7N9wSm2pGYwq"
      }
    },
    {
      "cell_type": "code",
      "source": [
        "file_path = 'preprocessed_crime_data.csv'\n",
        "df = pd.read_csv(file_path)"
      ],
      "metadata": {
        "id": "0H5AoWbIGaZv"
      },
      "execution_count": 2,
      "outputs": []
    },
    {
      "cell_type": "markdown",
      "source": [
        "Feature Engineering"
      ],
      "metadata": {
        "id": "JG6lO0ZRGd23"
      }
    },
    {
      "cell_type": "code",
      "source": [
        "df['DATE OCC'] = pd.to_datetime(df['DATE OCC'])\n",
        "df['hour'] = df['TIME OCC'].astype(int) // 100\n",
        "df['dayofweek'] = df['DATE OCC'].dt.dayofweek\n",
        "df['month'] = df['DATE OCC'].dt.month\n",
        "df['year'] = df['DATE OCC'].dt.year\n",
        "df['is_weekend'] = df['dayofweek'].isin([5, 6]).astype(int)"
      ],
      "metadata": {
        "id": "Ay635mH5GgnN"
      },
      "execution_count": 3,
      "outputs": []
    },
    {
      "cell_type": "markdown",
      "source": [
        "Dropping Unused Columns"
      ],
      "metadata": {
        "id": "-AciFEiaGjZL"
      }
    },
    {
      "cell_type": "code",
      "source": [
        "df = df.drop(columns=['Crime Count', 'Is Violent', 'DATE OCC'])"
      ],
      "metadata": {
        "id": "SfIFo-rrGmFH"
      },
      "execution_count": 4,
      "outputs": []
    },
    {
      "cell_type": "markdown",
      "source": [
        "Ttain-Test Split by Year"
      ],
      "metadata": {
        "id": "R2vLsL6QGqUS"
      }
    },
    {
      "cell_type": "code",
      "source": [
        "train_df = df[df['year'].isin([2020, 2021, 2022])]\n",
        "test_df = df[df['year'].isin([2023, 2024])]\n",
        "\n",
        "X_train = train_df.drop(columns=['Target', 'year'])\n",
        "y_train = train_df['Target']\n",
        "X_test = test_df.drop(columns=['Target', 'year'])\n",
        "y_test = test_df['Target']"
      ],
      "metadata": {
        "id": "NulJ4czMGwgV"
      },
      "execution_count": 5,
      "outputs": []
    },
    {
      "cell_type": "markdown",
      "source": [
        "Defining 10 Parameter Sets for AdaBoost"
      ],
      "metadata": {
        "id": "s0KJ8Ai0Gx58"
      }
    },
    {
      "cell_type": "code",
      "source": [
        "param_sets = [\n",
        "    {'n_estimators': 50, 'learning_rate': 1.0, 'max_depth': 1},\n",
        "    {'n_estimators': 100, 'learning_rate': 0.5, 'max_depth': 2},\n",
        "    {'n_estimators': 150, 'learning_rate': 0.1, 'max_depth': 3},\n",
        "    {'n_estimators': 200, 'learning_rate': 0.05, 'max_depth': 4},\n",
        "    {'n_estimators': 75, 'learning_rate': 0.3, 'max_depth': 2},\n",
        "    {'n_estimators': 120, 'learning_rate': 0.2, 'max_depth': 3},\n",
        "    {'n_estimators': 80, 'learning_rate': 0.8, 'max_depth': 1},\n",
        "    {'n_estimators': 180, 'learning_rate': 0.15, 'max_depth': 4},\n",
        "    {'n_estimators': 60, 'learning_rate': 0.4, 'max_depth': 2},\n",
        "    {'n_estimators': 140, 'learning_rate': 0.25, 'max_depth': 3}\n",
        "]"
      ],
      "metadata": {
        "id": "QkDekQSmG2LE"
      },
      "execution_count": 6,
      "outputs": []
    },
    {
      "cell_type": "markdown",
      "source": [
        "Training and Evaluating Each Model"
      ],
      "metadata": {
        "id": "tp4MK-C8G4PR"
      }
    },
    {
      "cell_type": "code",
      "source": [
        "for i, params in enumerate(param_sets, 1):\n",
        "    print(f\"\\n=== Model {i} ===\")\n",
        "    print(f\"Parameters: {params}\")\n",
        "\n",
        "    estimator = DecisionTreeClassifier(max_depth=params['max_depth'], random_state=42)\n",
        "    model = AdaBoostClassifier(\n",
        "        estimator=estimator,\n",
        "        n_estimators=params['n_estimators'],\n",
        "        learning_rate=params['learning_rate'],\n",
        "        random_state=42\n",
        "    )\n",
        "\n",
        "    model.fit(X_train, y_train)\n",
        "\n",
        "    test_preds = model.predict(X_test)\n",
        "    test_acc = accuracy_score(y_test, test_preds)\n",
        "    print(f\"Test Accuracy: {test_acc:.6f}\")\n",
        "    print(\"Test Classification Report:\")\n",
        "    print(classification_report(y_test, test_preds, digits=6, zero_division=0))"
      ],
      "metadata": {
        "colab": {
          "base_uri": "https://localhost:8080/"
        },
        "id": "9S4NX_nKG6Kb",
        "outputId": "6db738f6-7e81-4180-ec39-845f06cf2d9b"
      },
      "execution_count": 7,
      "outputs": [
        {
          "output_type": "stream",
          "name": "stdout",
          "text": [
            "\n",
            "=== Model 1 ===\n",
            "Parameters: {'n_estimators': 50, 'learning_rate': 1.0, 'max_depth': 1}\n",
            "Test Accuracy: 0.842979\n",
            "Test Classification Report:\n",
            "              precision    recall  f1-score   support\n",
            "\n",
            "           0   0.842979  1.000000  0.914800     21995\n",
            "           1   0.000000  0.000000  0.000000      4097\n",
            "\n",
            "    accuracy                       0.842979     26092\n",
            "   macro avg   0.421489  0.500000  0.457400     26092\n",
            "weighted avg   0.710613  0.842979  0.771157     26092\n",
            "\n",
            "\n",
            "=== Model 2 ===\n",
            "Parameters: {'n_estimators': 100, 'learning_rate': 0.5, 'max_depth': 2}\n",
            "Test Accuracy: 0.847999\n",
            "Test Classification Report:\n",
            "              precision    recall  f1-score   support\n",
            "\n",
            "           0   0.861346  0.976949  0.915513     21995\n",
            "           1   0.557205  0.155724  0.243419      4097\n",
            "\n",
            "    accuracy                       0.847999     26092\n",
            "   macro avg   0.709276  0.566337  0.579466     26092\n",
            "weighted avg   0.813589  0.847999  0.809980     26092\n",
            "\n",
            "\n",
            "=== Model 3 ===\n",
            "Parameters: {'n_estimators': 150, 'learning_rate': 0.1, 'max_depth': 3}\n",
            "Test Accuracy: 0.848728\n",
            "Test Classification Report:\n",
            "              precision    recall  f1-score   support\n",
            "\n",
            "           0   0.851758  0.993453  0.917165     21995\n",
            "           1   0.671233  0.071760  0.129658      4097\n",
            "\n",
            "    accuracy                       0.848728     26092\n",
            "   macro avg   0.761495  0.532606  0.523412     26092\n",
            "weighted avg   0.823412  0.848728  0.793510     26092\n",
            "\n",
            "\n",
            "=== Model 4 ===\n",
            "Parameters: {'n_estimators': 200, 'learning_rate': 0.05, 'max_depth': 4}\n",
            "Test Accuracy: 0.848574\n",
            "Test Classification Report:\n",
            "              precision    recall  f1-score   support\n",
            "\n",
            "           0   0.851051  0.994408  0.917161     21995\n",
            "           1   0.686224  0.065658  0.119849      4097\n",
            "\n",
            "    accuracy                       0.848574     26092\n",
            "   macro avg   0.768638  0.530033  0.518505     26092\n",
            "weighted avg   0.825169  0.848574  0.791966     26092\n",
            "\n",
            "\n",
            "=== Model 5 ===\n",
            "Parameters: {'n_estimators': 75, 'learning_rate': 0.3, 'max_depth': 2}\n",
            "Test Accuracy: 0.842979\n",
            "Test Classification Report:\n",
            "              precision    recall  f1-score   support\n",
            "\n",
            "           0   0.842979  1.000000  0.914800     21995\n",
            "           1   0.000000  0.000000  0.000000      4097\n",
            "\n",
            "    accuracy                       0.842979     26092\n",
            "   macro avg   0.421489  0.500000  0.457400     26092\n",
            "weighted avg   0.710613  0.842979  0.771157     26092\n",
            "\n",
            "\n",
            "=== Model 6 ===\n",
            "Parameters: {'n_estimators': 120, 'learning_rate': 0.2, 'max_depth': 3}\n",
            "Test Accuracy: 0.849187\n",
            "Test Classification Report:\n",
            "              precision    recall  f1-score   support\n",
            "\n",
            "           0   0.853425  0.991362  0.917236     21995\n",
            "           1   0.649446  0.085917  0.151757      4097\n",
            "\n",
            "    accuracy                       0.849187     26092\n",
            "   macro avg   0.751436  0.538639  0.534497     26092\n",
            "weighted avg   0.821396  0.849187  0.797040     26092\n",
            "\n",
            "\n",
            "=== Model 7 ===\n",
            "Parameters: {'n_estimators': 80, 'learning_rate': 0.8, 'max_depth': 1}\n",
            "Test Accuracy: 0.842979\n",
            "Test Classification Report:\n",
            "              precision    recall  f1-score   support\n",
            "\n",
            "           0   0.842979  1.000000  0.914800     21995\n",
            "           1   0.000000  0.000000  0.000000      4097\n",
            "\n",
            "    accuracy                       0.842979     26092\n",
            "   macro avg   0.421489  0.500000  0.457400     26092\n",
            "weighted avg   0.710613  0.842979  0.771157     26092\n",
            "\n",
            "\n",
            "=== Model 8 ===\n",
            "Parameters: {'n_estimators': 180, 'learning_rate': 0.15, 'max_depth': 4}\n",
            "Test Accuracy: 0.851640\n",
            "Test Classification Report:\n",
            "              precision    recall  f1-score   support\n",
            "\n",
            "           0   0.856968  0.989088  0.918301     21995\n",
            "           1   0.660057  0.113742  0.194045      4097\n",
            "\n",
            "    accuracy                       0.851640     26092\n",
            "   macro avg   0.758513  0.551415  0.556173     26092\n",
            "weighted avg   0.826049  0.851640  0.804577     26092\n",
            "\n",
            "\n",
            "=== Model 9 ===\n",
            "Parameters: {'n_estimators': 60, 'learning_rate': 0.4, 'max_depth': 2}\n",
            "Test Accuracy: 0.842979\n",
            "Test Classification Report:\n",
            "              precision    recall  f1-score   support\n",
            "\n",
            "           0   0.842979  1.000000  0.914800     21995\n",
            "           1   0.000000  0.000000  0.000000      4097\n",
            "\n",
            "    accuracy                       0.842979     26092\n",
            "   macro avg   0.421489  0.500000  0.457400     26092\n",
            "weighted avg   0.710613  0.842979  0.771157     26092\n",
            "\n",
            "\n",
            "=== Model 10 ===\n",
            "Parameters: {'n_estimators': 140, 'learning_rate': 0.25, 'max_depth': 3}\n",
            "Test Accuracy: 0.851027\n",
            "Test Classification Report:\n",
            "              precision    recall  f1-score   support\n",
            "\n",
            "           0   0.855924  0.989907  0.918053     21995\n",
            "           1   0.660550  0.105443  0.181856      4097\n",
            "\n",
            "    accuracy                       0.851027     26092\n",
            "   macro avg   0.758237  0.547675  0.549955     26092\n",
            "weighted avg   0.825246  0.851027  0.802454     26092\n",
            "\n"
          ]
        }
      ]
    }
  ]
}