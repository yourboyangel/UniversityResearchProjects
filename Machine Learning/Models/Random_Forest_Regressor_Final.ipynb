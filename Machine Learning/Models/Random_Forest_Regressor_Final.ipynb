{
  "nbformat": 4,
  "nbformat_minor": 0,
  "metadata": {
    "colab": {
      "provenance": [],
      "gpuType": "V28"
    },
    "kernelspec": {
      "name": "python3",
      "display_name": "Python 3"
    },
    "language_info": {
      "name": "python"
    },
    "accelerator": "TPU"
  },
  "cells": [
    {
      "cell_type": "code",
      "execution_count": 2,
      "metadata": {
        "colab": {
          "base_uri": "https://localhost:8080/"
        },
        "id": "tHARfziIksGT",
        "outputId": "753b8cee-4129-41d7-ff6f-39885e7119de"
      },
      "outputs": [
        {
          "output_type": "stream",
          "name": "stdout",
          "text": [
            "   Model  n_estimators  max_depth  Predicted Crime Count       MSE\n",
            "0      1           100          5              59.632850  1.073425\n",
            "1      2           200          6             165.316636  0.997853\n",
            "2      3           150          7             168.314998  0.933125\n",
            "3      4           100          8             172.747681  0.880622\n",
            "4      5           120          4              31.732848  1.105457\n",
            "5      6           180          9             173.510545  0.822034\n",
            "6      7           160          6             167.719462  1.000390\n",
            "7      8           130          5              61.014182  1.071239\n",
            "8      9           110          7             171.293597  0.933229\n",
            "9     10           140          6             167.534819  0.999555\n"
          ]
        }
      ],
      "source": [
        "import pandas as pd\n",
        "from sklearn.ensemble import RandomForestRegressor\n",
        "from sklearn.metrics import mean_squared_error\n",
        "\n",
        "# Load and preprocess data\n",
        "df = pd.read_csv(\"/content/preprocessed_crime_data.csv\")\n",
        "df['DATE OCC'] = pd.to_datetime(df['DATE OCC'])\n",
        "df['Year'] = df['DATE OCC'].dt.year\n",
        "df['Month'] = df['DATE OCC'].dt.month\n",
        "\n",
        "# Aggregate monthly crime count per zone\n",
        "monthly_zone_crime = df.groupby(['Year', 'Month', 'Rpt Dist No'])['Crime Count'].sum().reset_index()\n",
        "\n",
        "# Features and target\n",
        "feature_cols = ['Year', 'Month', 'Rpt Dist No']\n",
        "X = monthly_zone_crime[feature_cols]\n",
        "y = monthly_zone_crime['Crime Count']\n",
        "\n",
        "# Split train/test\n",
        "train_mask = X['Year'] < 2023\n",
        "X_train, y_train = X[train_mask], y[train_mask]\n",
        "X_test, y_test = X[~train_mask], y[~train_mask]\n",
        "\n",
        "# List of 10 different parameter sets\n",
        "param_list = [\n",
        "    {\"n_estimators\": 100, \"max_depth\": 5},\n",
        "    {\"n_estimators\": 200, \"max_depth\": 6},\n",
        "    {\"n_estimators\": 150, \"max_depth\": 7},\n",
        "    {\"n_estimators\": 100, \"max_depth\": 8},\n",
        "    {\"n_estimators\": 120, \"max_depth\": 4},\n",
        "    {\"n_estimators\": 180, \"max_depth\": 9},\n",
        "    {\"n_estimators\": 160, \"max_depth\": 6},\n",
        "    {\"n_estimators\": 130, \"max_depth\": 5},\n",
        "    {\"n_estimators\": 110, \"max_depth\": 7},\n",
        "    {\"n_estimators\": 140, \"max_depth\": 6},\n",
        "]\n",
        "\n",
        "# Run each model and collect results\n",
        "results = []\n",
        "for i, params in enumerate(param_list, 1):\n",
        "    model = RandomForestRegressor(n_estimators=params[\"n_estimators\"], max_depth=params[\"max_depth\"], random_state=42)\n",
        "    model.fit(X_train, y_train)\n",
        "    y_pred = model.predict(X_test)\n",
        "\n",
        "    # Aggregate predictions\n",
        "    X_test_copy = X_test.copy()\n",
        "    X_test_copy['Predicted Crime Count'] = y_pred\n",
        "    zone_preds = X_test_copy.groupby('Rpt Dist No')['Predicted Crime Count'].sum().reset_index()\n",
        "    most_dangerous = zone_preds.sort_values(by='Predicted Crime Count', ascending=False).iloc[0]\n",
        "\n",
        "    mse = mean_squared_error(y_test, y_pred)\n",
        "\n",
        "    results.append({\n",
        "        \"Model\": i,\n",
        "        \"n_estimators\": params[\"n_estimators\"],\n",
        "        \"max_depth\": params[\"max_depth\"],\n",
        "\n",
        "        \"Predicted Crime Count\": most_dangerous['Predicted Crime Count'],\n",
        "        \"MSE\": mse\n",
        "    })\n",
        "\n",
        "# Display results\n",
        "results_df = pd.DataFrame(results)\n",
        "print(results_df)\n"
      ]
    }
  ]
}